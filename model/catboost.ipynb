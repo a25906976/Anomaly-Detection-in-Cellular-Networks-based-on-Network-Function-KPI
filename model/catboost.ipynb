{
  "nbformat": 4,
  "nbformat_minor": 0,
  "metadata": {
    "colab": {
      "name": "catboost.ipynb",
      "provenance": [],
      "collapsed_sections": []
    },
    "kernelspec": {
      "name": "python3",
      "display_name": "Python 3"
    },
    "language_info": {
      "name": "python"
    }
  },
  "cells": [
    {
      "cell_type": "code",
      "metadata": {
        "id": "MKMG9KhvLHGT"
      },
      "source": [
        "import numpy as np\n",
        "import pandas as pd\n",
        "import datetime\n",
        "from sklearn.preprocessing import LabelEncoder\n",
        "import matplotlib.pyplot as plt\n",
        "import seaborn as sns"
      ],
      "execution_count": null,
      "outputs": []
    },
    {
      "cell_type": "code",
      "metadata": {
        "colab": {
          "base_uri": "https://localhost:8080/"
        },
        "id": "8P8AqSf4MAy-",
        "outputId": "a11f966d-9a28-4c75-81e8-d2f0299ce343"
      },
      "source": [
        "from google.colab import drive\n",
        "drive.mount('/content/drive')"
      ],
      "execution_count": null,
      "outputs": [
        {
          "output_type": "stream",
          "name": "stdout",
          "text": [
            "Mounted at /content/drive\n"
          ]
        }
      ]
    },
    {
      "cell_type": "code",
      "metadata": {
        "colab": {
          "base_uri": "https://localhost:8080/",
          "height": 475
        },
        "id": "GEAu5kRMMBMP",
        "outputId": "a3a3db2f-f010-44a3-ddb9-cc983d396e5e"
      },
      "source": [
        "df_train = pd.read_excel('/content/drive/MyDrive/KPI_train_new.xlsx', index_col=0)\n",
        "df_train"
      ],
      "execution_count": null,
      "outputs": [
        {
          "output_type": "execute_result",
          "data": {
            "text/html": [
              "<div>\n",
              "<style scoped>\n",
              "    .dataframe tbody tr th:only-of-type {\n",
              "        vertical-align: middle;\n",
              "    }\n",
              "\n",
              "    .dataframe tbody tr th {\n",
              "        vertical-align: top;\n",
              "    }\n",
              "\n",
              "    .dataframe thead th {\n",
              "        text-align: right;\n",
              "    }\n",
              "</style>\n",
              "<table border=\"1\" class=\"dataframe\">\n",
              "  <thead>\n",
              "    <tr style=\"text-align: right;\">\n",
              "      <th></th>\n",
              "      <th>label</th>\n",
              "      <th>year</th>\n",
              "      <th>month</th>\n",
              "      <th>weekday</th>\n",
              "      <th>hour</th>\n",
              "      <th>weekend</th>\n",
              "      <th>daylight</th>\n",
              "      <th>kpi_id</th>\n",
              "      <th>win_2_mean_value</th>\n",
              "      <th>win_3_mean_value</th>\n",
              "      <th>win_6_mean_value</th>\n",
              "      <th>win_6_std_value</th>\n",
              "      <th>win_6_skew_value</th>\n",
              "      <th>win_6_kurt_value</th>\n",
              "      <th>win_6_q25_value</th>\n",
              "      <th>win_6_q50_value</th>\n",
              "      <th>win_6_q75_value</th>\n",
              "      <th>win_12_mean_value</th>\n",
              "      <th>win_12_std_value</th>\n",
              "      <th>win_12_skew_value</th>\n",
              "      <th>win_12_kurt_value</th>\n",
              "      <th>win_12_q25_value</th>\n",
              "      <th>win_12_q50_value</th>\n",
              "      <th>win_12_q75_value</th>\n",
              "      <th>x_y_value_1</th>\n",
              "      <th>x_y_value_24</th>\n",
              "      <th>x_y_value_48</th>\n",
              "      <th>x_y_value_144</th>\n",
              "      <th>x_y_value_168</th>\n",
              "      <th>x_y_win_2_mean_value_1</th>\n",
              "      <th>x_y_win_2_mean_value_24</th>\n",
              "      <th>x_y_win_2_mean_value_48</th>\n",
              "      <th>x_y_win_2_mean_value_144</th>\n",
              "      <th>x_y_win_2_mean_value_168</th>\n",
              "      <th>x_y_win_3_mean_value_1</th>\n",
              "      <th>x_y_win_3_mean_value_24</th>\n",
              "      <th>x_y_win_3_mean_value_48</th>\n",
              "      <th>x_y_win_3_mean_value_144</th>\n",
              "      <th>x_y_win_3_mean_value_168</th>\n",
              "      <th>expa_mean</th>\n",
              "      <th>expa_std</th>\n",
              "      <th>win_3_mean</th>\n",
              "      <th>trend_win3</th>\n",
              "      <th>z_score</th>\n",
              "    </tr>\n",
              "    <tr>\n",
              "      <th>value</th>\n",
              "      <th></th>\n",
              "      <th></th>\n",
              "      <th></th>\n",
              "      <th></th>\n",
              "      <th></th>\n",
              "      <th></th>\n",
              "      <th></th>\n",
              "      <th></th>\n",
              "      <th></th>\n",
              "      <th></th>\n",
              "      <th></th>\n",
              "      <th></th>\n",
              "      <th></th>\n",
              "      <th></th>\n",
              "      <th></th>\n",
              "      <th></th>\n",
              "      <th></th>\n",
              "      <th></th>\n",
              "      <th></th>\n",
              "      <th></th>\n",
              "      <th></th>\n",
              "      <th></th>\n",
              "      <th></th>\n",
              "      <th></th>\n",
              "      <th></th>\n",
              "      <th></th>\n",
              "      <th></th>\n",
              "      <th></th>\n",
              "      <th></th>\n",
              "      <th></th>\n",
              "      <th></th>\n",
              "      <th></th>\n",
              "      <th></th>\n",
              "      <th></th>\n",
              "      <th></th>\n",
              "      <th></th>\n",
              "      <th></th>\n",
              "      <th></th>\n",
              "      <th></th>\n",
              "      <th></th>\n",
              "      <th></th>\n",
              "      <th></th>\n",
              "      <th></th>\n",
              "      <th></th>\n",
              "    </tr>\n",
              "  </thead>\n",
              "  <tbody>\n",
              "    <tr>\n",
              "      <th>41062.000000</th>\n",
              "      <td>0</td>\n",
              "      <td>2018</td>\n",
              "      <td>12</td>\n",
              "      <td>7</td>\n",
              "      <td>0</td>\n",
              "      <td>1</td>\n",
              "      <td>1</td>\n",
              "      <td>0</td>\n",
              "      <td>41344.500000</td>\n",
              "      <td>41522.000000</td>\n",
              "      <td>41946.500000</td>\n",
              "      <td>561.820167</td>\n",
              "      <td>-0.492438</td>\n",
              "      <td>0.196486</td>\n",
              "      <td>41689.500000</td>\n",
              "      <td>42010.500000</td>\n",
              "      <td>42258.000000</td>\n",
              "      <td>42207.416667</td>\n",
              "      <td>489.034942</td>\n",
              "      <td>-1.258341</td>\n",
              "      <td>1.550799</td>\n",
              "      <td>42077.250000</td>\n",
              "      <td>42266.500000</td>\n",
              "      <td>42547.750000</td>\n",
              "      <td>565.000000</td>\n",
              "      <td>30.000000</td>\n",
              "      <td>84.000000</td>\n",
              "      <td>633.000000</td>\n",
              "      <td>7346.000000</td>\n",
              "      <td>407.500000</td>\n",
              "      <td>54.500000</td>\n",
              "      <td>234.500000</td>\n",
              "      <td>488.000000</td>\n",
              "      <td>7063.500000</td>\n",
              "      <td>360.666667</td>\n",
              "      <td>78.333333</td>\n",
              "      <td>292.666667</td>\n",
              "      <td>505.333333</td>\n",
              "      <td>0.000000</td>\n",
              "      <td>42281.207101</td>\n",
              "      <td>1060.623002</td>\n",
              "      <td>41522.000000</td>\n",
              "      <td>-460.000000</td>\n",
              "      <td>1.038317</td>\n",
              "    </tr>\n",
              "    <tr>\n",
              "      <th>40928.000000</th>\n",
              "      <td>0</td>\n",
              "      <td>2018</td>\n",
              "      <td>12</td>\n",
              "      <td>7</td>\n",
              "      <td>1</td>\n",
              "      <td>1</td>\n",
              "      <td>1</td>\n",
              "      <td>0</td>\n",
              "      <td>40995.000000</td>\n",
              "      <td>41205.666667</td>\n",
              "      <td>41655.666667</td>\n",
              "      <td>562.182414</td>\n",
              "      <td>-0.345635</td>\n",
              "      <td>-1.821184</td>\n",
              "      <td>41203.250000</td>\n",
              "      <td>41752.000000</td>\n",
              "      <td>42077.250000</td>\n",
              "      <td>42098.333333</td>\n",
              "      <td>612.294393</td>\n",
              "      <td>-0.987645</td>\n",
              "      <td>-0.105631</td>\n",
              "      <td>41814.500000</td>\n",
              "      <td>42243.000000</td>\n",
              "      <td>42547.750000</td>\n",
              "      <td>134.000000</td>\n",
              "      <td>0.000000</td>\n",
              "      <td>88.000000</td>\n",
              "      <td>353.000000</td>\n",
              "      <td>6529.000000</td>\n",
              "      <td>349.500000</td>\n",
              "      <td>15.000000</td>\n",
              "      <td>86.000000</td>\n",
              "      <td>493.000000</td>\n",
              "      <td>6937.500000</td>\n",
              "      <td>316.333333</td>\n",
              "      <td>36.333333</td>\n",
              "      <td>185.666667</td>\n",
              "      <td>443.000000</td>\n",
              "      <td>6726.833333</td>\n",
              "      <td>42273.247059</td>\n",
              "      <td>1062.561245</td>\n",
              "      <td>41205.666667</td>\n",
              "      <td>-277.666667</td>\n",
              "      <td>0.961162</td>\n",
              "    </tr>\n",
              "    <tr>\n",
              "      <th>40915.000000</th>\n",
              "      <td>0</td>\n",
              "      <td>2018</td>\n",
              "      <td>12</td>\n",
              "      <td>7</td>\n",
              "      <td>2</td>\n",
              "      <td>1</td>\n",
              "      <td>1</td>\n",
              "      <td>0</td>\n",
              "      <td>40921.500000</td>\n",
              "      <td>40968.333333</td>\n",
              "      <td>41425.500000</td>\n",
              "      <td>529.328915</td>\n",
              "      <td>0.337669</td>\n",
              "      <td>-2.180977</td>\n",
              "      <td>40961.500000</td>\n",
              "      <td>41344.500000</td>\n",
              "      <td>41814.500000</td>\n",
              "      <td>41992.083333</td>\n",
              "      <td>699.373415</td>\n",
              "      <td>-0.639919</td>\n",
              "      <td>-1.237153</td>\n",
              "      <td>41485.750000</td>\n",
              "      <td>42220.000000</td>\n",
              "      <td>42547.750000</td>\n",
              "      <td>13.000000</td>\n",
              "      <td>2.000000</td>\n",
              "      <td>14.000000</td>\n",
              "      <td>296.000000</td>\n",
              "      <td>5857.000000</td>\n",
              "      <td>73.500000</td>\n",
              "      <td>1.000000</td>\n",
              "      <td>37.000000</td>\n",
              "      <td>324.500000</td>\n",
              "      <td>6193.000000</td>\n",
              "      <td>237.333333</td>\n",
              "      <td>9.333333</td>\n",
              "      <td>52.666667</td>\n",
              "      <td>427.333333</td>\n",
              "      <td>6577.333333</td>\n",
              "      <td>42265.304094</td>\n",
              "      <td>1064.510929</td>\n",
              "      <td>40968.333333</td>\n",
              "      <td>-53.333333</td>\n",
              "      <td>0.903275</td>\n",
              "    </tr>\n",
              "    <tr>\n",
              "      <th>40846.000000</th>\n",
              "      <td>0</td>\n",
              "      <td>2018</td>\n",
              "      <td>12</td>\n",
              "      <td>7</td>\n",
              "      <td>3</td>\n",
              "      <td>1</td>\n",
              "      <td>1</td>\n",
              "      <td>0</td>\n",
              "      <td>40880.500000</td>\n",
              "      <td>40896.333333</td>\n",
              "      <td>41209.166667</td>\n",
              "      <td>433.525739</td>\n",
              "      <td>1.001611</td>\n",
              "      <td>-1.077779</td>\n",
              "      <td>40918.250000</td>\n",
              "      <td>40995.000000</td>\n",
              "      <td>41485.750000</td>\n",
              "      <td>41851.250000</td>\n",
              "      <td>748.331978</td>\n",
              "      <td>-0.269897</td>\n",
              "      <td>-1.741423</td>\n",
              "      <td>41028.500000</td>\n",
              "      <td>42010.500000</td>\n",
              "      <td>42523.000000</td>\n",
              "      <td>69.000000</td>\n",
              "      <td>4.000000</td>\n",
              "      <td>16.000000</td>\n",
              "      <td>273.000000</td>\n",
              "      <td>5327.000000</td>\n",
              "      <td>41.000000</td>\n",
              "      <td>3.000000</td>\n",
              "      <td>15.000000</td>\n",
              "      <td>284.500000</td>\n",
              "      <td>5592.000000</td>\n",
              "      <td>72.000000</td>\n",
              "      <td>2.000000</td>\n",
              "      <td>19.333333</td>\n",
              "      <td>307.333333</td>\n",
              "      <td>5904.333333</td>\n",
              "      <td>42257.052326</td>\n",
              "      <td>1066.896660</td>\n",
              "      <td>40896.333333</td>\n",
              "      <td>-50.333333</td>\n",
              "      <td>0.885714</td>\n",
              "    </tr>\n",
              "    <tr>\n",
              "      <th>40800.000000</th>\n",
              "      <td>0</td>\n",
              "      <td>2018</td>\n",
              "      <td>12</td>\n",
              "      <td>7</td>\n",
              "      <td>4</td>\n",
              "      <td>1</td>\n",
              "      <td>1</td>\n",
              "      <td>0</td>\n",
              "      <td>40823.000000</td>\n",
              "      <td>40853.666667</td>\n",
              "      <td>41029.666667</td>\n",
              "      <td>305.881459</td>\n",
              "      <td>2.015751</td>\n",
              "      <td>4.266029</td>\n",
              "      <td>40863.250000</td>\n",
              "      <td>40921.500000</td>\n",
              "      <td>41028.500000</td>\n",
              "      <td>41702.666667</td>\n",
              "      <td>766.619063</td>\n",
              "      <td>0.080060</td>\n",
              "      <td>-1.829722</td>\n",
              "      <td>40924.750000</td>\n",
              "      <td>41752.000000</td>\n",
              "      <td>42347.750000</td>\n",
              "      <td>46.000000</td>\n",
              "      <td>5.000000</td>\n",
              "      <td>2.000000</td>\n",
              "      <td>286.000000</td>\n",
              "      <td>3180.000000</td>\n",
              "      <td>57.500000</td>\n",
              "      <td>4.500000</td>\n",
              "      <td>7.000000</td>\n",
              "      <td>279.500000</td>\n",
              "      <td>4253.500000</td>\n",
              "      <td>42.666667</td>\n",
              "      <td>3.666667</td>\n",
              "      <td>9.333333</td>\n",
              "      <td>285.000000</td>\n",
              "      <td>4788.000000</td>\n",
              "      <td>42248.630058</td>\n",
              "      <td>1069.543046</td>\n",
              "      <td>40853.666667</td>\n",
              "      <td>-53.666667</td>\n",
              "      <td>0.875307</td>\n",
              "    </tr>\n",
              "    <tr>\n",
              "      <th>...</th>\n",
              "      <td>...</td>\n",
              "      <td>...</td>\n",
              "      <td>...</td>\n",
              "      <td>...</td>\n",
              "      <td>...</td>\n",
              "      <td>...</td>\n",
              "      <td>...</td>\n",
              "      <td>...</td>\n",
              "      <td>...</td>\n",
              "      <td>...</td>\n",
              "      <td>...</td>\n",
              "      <td>...</td>\n",
              "      <td>...</td>\n",
              "      <td>...</td>\n",
              "      <td>...</td>\n",
              "      <td>...</td>\n",
              "      <td>...</td>\n",
              "      <td>...</td>\n",
              "      <td>...</td>\n",
              "      <td>...</td>\n",
              "      <td>...</td>\n",
              "      <td>...</td>\n",
              "      <td>...</td>\n",
              "      <td>...</td>\n",
              "      <td>...</td>\n",
              "      <td>...</td>\n",
              "      <td>...</td>\n",
              "      <td>...</td>\n",
              "      <td>...</td>\n",
              "      <td>...</td>\n",
              "      <td>...</td>\n",
              "      <td>...</td>\n",
              "      <td>...</td>\n",
              "      <td>...</td>\n",
              "      <td>...</td>\n",
              "      <td>...</td>\n",
              "      <td>...</td>\n",
              "      <td>...</td>\n",
              "      <td>...</td>\n",
              "      <td>...</td>\n",
              "      <td>...</td>\n",
              "      <td>...</td>\n",
              "      <td>...</td>\n",
              "      <td>...</td>\n",
              "    </tr>\n",
              "    <tr>\n",
              "      <th>980.530954</th>\n",
              "      <td>1</td>\n",
              "      <td>2019</td>\n",
              "      <td>1</td>\n",
              "      <td>4</td>\n",
              "      <td>10</td>\n",
              "      <td>0</td>\n",
              "      <td>0</td>\n",
              "      <td>58</td>\n",
              "      <td>1400.720967</td>\n",
              "      <td>1648.859467</td>\n",
              "      <td>1339.139478</td>\n",
              "      <td>655.257780</td>\n",
              "      <td>-0.089253</td>\n",
              "      <td>-1.981911</td>\n",
              "      <td>882.258246</td>\n",
              "      <td>1368.082919</td>\n",
              "      <td>1802.090826</td>\n",
              "      <td>1013.698411</td>\n",
              "      <td>596.032223</td>\n",
              "      <td>0.878396</td>\n",
              "      <td>-0.624007</td>\n",
              "      <td>542.092974</td>\n",
              "      <td>825.530954</td>\n",
              "      <td>1338.519657</td>\n",
              "      <td>840.380026</td>\n",
              "      <td>590.511973</td>\n",
              "      <td>675.614549</td>\n",
              "      <td>471.493899</td>\n",
              "      <td>358.067780</td>\n",
              "      <td>582.302756</td>\n",
              "      <td>242.441257</td>\n",
              "      <td>166.434703</td>\n",
              "      <td>70.020334</td>\n",
              "      <td>192.116585</td>\n",
              "      <td>252.809911</td>\n",
              "      <td>588.925140</td>\n",
              "      <td>195.439977</td>\n",
              "      <td>175.781594</td>\n",
              "      <td>556.254708</td>\n",
              "      <td>1297.537903</td>\n",
              "      <td>557.014190</td>\n",
              "      <td>1648.859467</td>\n",
              "      <td>-668.328513</td>\n",
              "      <td>0.602373</td>\n",
              "    </tr>\n",
              "    <tr>\n",
              "      <th>34.024575</th>\n",
              "      <td>1</td>\n",
              "      <td>2019</td>\n",
              "      <td>1</td>\n",
              "      <td>1</td>\n",
              "      <td>18</td>\n",
              "      <td>0</td>\n",
              "      <td>0</td>\n",
              "      <td>77</td>\n",
              "      <td>38.393982</td>\n",
              "      <td>40.059146</td>\n",
              "      <td>40.666410</td>\n",
              "      <td>5.718427</td>\n",
              "      <td>-1.613280</td>\n",
              "      <td>29.567628</td>\n",
              "      <td>40.701416</td>\n",
              "      <td>41.776184</td>\n",
              "      <td>43.165933</td>\n",
              "      <td>44.283057</td>\n",
              "      <td>7.737419</td>\n",
              "      <td>-0.569271</td>\n",
              "      <td>-7.168653</td>\n",
              "      <td>41.093075</td>\n",
              "      <td>43.748462</td>\n",
              "      <td>47.130831</td>\n",
              "      <td>10.671476</td>\n",
              "      <td>15.115342</td>\n",
              "      <td>12.391573</td>\n",
              "      <td>7.517272</td>\n",
              "      <td>9.638575</td>\n",
              "      <td>4.682450</td>\n",
              "      <td>7.832394</td>\n",
              "      <td>6.375894</td>\n",
              "      <td>2.481924</td>\n",
              "      <td>3.664574</td>\n",
              "      <td>3.276212</td>\n",
              "      <td>5.390387</td>\n",
              "      <td>4.456188</td>\n",
              "      <td>1.859363</td>\n",
              "      <td>3.563052</td>\n",
              "      <td>41.415433</td>\n",
              "      <td>10.499364</td>\n",
              "      <td>40.059146</td>\n",
              "      <td>-6.034571</td>\n",
              "      <td>-0.102082</td>\n",
              "    </tr>\n",
              "    <tr>\n",
              "      <th>2157.467904</th>\n",
              "      <td>1</td>\n",
              "      <td>2019</td>\n",
              "      <td>1</td>\n",
              "      <td>7</td>\n",
              "      <td>13</td>\n",
              "      <td>1</td>\n",
              "      <td>0</td>\n",
              "      <td>50</td>\n",
              "      <td>1078.733952</td>\n",
              "      <td>719.155968</td>\n",
              "      <td>359.577984</td>\n",
              "      <td>880.782584</td>\n",
              "      <td>2.449490</td>\n",
              "      <td>6.000000</td>\n",
              "      <td>0.000000</td>\n",
              "      <td>0.000000</td>\n",
              "      <td>0.000000</td>\n",
              "      <td>304.352310</td>\n",
              "      <td>743.191717</td>\n",
              "      <td>2.341461</td>\n",
              "      <td>4.582539</td>\n",
              "      <td>0.000000</td>\n",
              "      <td>0.000000</td>\n",
              "      <td>0.000000</td>\n",
              "      <td>2157.467904</td>\n",
              "      <td>2157.467904</td>\n",
              "      <td>2157.467904</td>\n",
              "      <td>2157.467904</td>\n",
              "      <td>2157.467904</td>\n",
              "      <td>1078.733952</td>\n",
              "      <td>1078.733952</td>\n",
              "      <td>1078.733952</td>\n",
              "      <td>1078.733952</td>\n",
              "      <td>1078.733952</td>\n",
              "      <td>719.155968</td>\n",
              "      <td>719.155968</td>\n",
              "      <td>719.155968</td>\n",
              "      <td>719.155968</td>\n",
              "      <td>719.155968</td>\n",
              "      <td>8.699812</td>\n",
              "      <td>120.697438</td>\n",
              "      <td>719.155968</td>\n",
              "      <td>1438.311936</td>\n",
              "      <td>5.731634</td>\n",
              "    </tr>\n",
              "    <tr>\n",
              "      <th>1737.753166</th>\n",
              "      <td>1</td>\n",
              "      <td>2019</td>\n",
              "      <td>1</td>\n",
              "      <td>7</td>\n",
              "      <td>13</td>\n",
              "      <td>1</td>\n",
              "      <td>0</td>\n",
              "      <td>52</td>\n",
              "      <td>1774.701742</td>\n",
              "      <td>1808.249298</td>\n",
              "      <td>1754.232157</td>\n",
              "      <td>94.760825</td>\n",
              "      <td>-0.162488</td>\n",
              "      <td>-1.736978</td>\n",
              "      <td>1674.415745</td>\n",
              "      <td>1773.385550</td>\n",
              "      <td>1810.992222</td>\n",
              "      <td>1455.397549</td>\n",
              "      <td>578.143086</td>\n",
              "      <td>-1.311650</td>\n",
              "      <td>0.074940</td>\n",
              "      <td>1414.610497</td>\n",
              "      <td>1695.528219</td>\n",
              "      <td>1809.676030</td>\n",
              "      <td>73.897152</td>\n",
              "      <td>269.986309</td>\n",
              "      <td>28.591245</td>\n",
              "      <td>74.591245</td>\n",
              "      <td>23.917722</td>\n",
              "      <td>68.795623</td>\n",
              "      <td>258.491323</td>\n",
              "      <td>23.683808</td>\n",
              "      <td>27.132384</td>\n",
              "      <td>28.010285</td>\n",
              "      <td>23.754923</td>\n",
              "      <td>167.089328</td>\n",
              "      <td>34.347046</td>\n",
              "      <td>18.197082</td>\n",
              "      <td>31.231364</td>\n",
              "      <td>1328.526214</td>\n",
              "      <td>584.976202</td>\n",
              "      <td>1808.249298</td>\n",
              "      <td>-70.496133</td>\n",
              "      <td>0.808414</td>\n",
              "    </tr>\n",
              "    <tr>\n",
              "      <th>25.134569</th>\n",
              "      <td>1</td>\n",
              "      <td>2019</td>\n",
              "      <td>1</td>\n",
              "      <td>3</td>\n",
              "      <td>7</td>\n",
              "      <td>0</td>\n",
              "      <td>1</td>\n",
              "      <td>94</td>\n",
              "      <td>52.601987</td>\n",
              "      <td>62.436841</td>\n",
              "      <td>71.854465</td>\n",
              "      <td>22.902774</td>\n",
              "      <td>-2.442254</td>\n",
              "      <td>6.068974</td>\n",
              "      <td>80.138655</td>\n",
              "      <td>81.076528</td>\n",
              "      <td>81.699068</td>\n",
              "      <td>74.450041</td>\n",
              "      <td>18.340727</td>\n",
              "      <td>-2.358077</td>\n",
              "      <td>4.772024</td>\n",
              "      <td>80.405378</td>\n",
              "      <td>81.752870</td>\n",
              "      <td>82.582848</td>\n",
              "      <td>54.934836</td>\n",
              "      <td>55.658960</td>\n",
              "      <td>55.356544</td>\n",
              "      <td>59.516778</td>\n",
              "      <td>57.373623</td>\n",
              "      <td>28.485991</td>\n",
              "      <td>27.402174</td>\n",
              "      <td>28.142264</td>\n",
              "      <td>31.673931</td>\n",
              "      <td>30.029507</td>\n",
              "      <td>18.458087</td>\n",
              "      <td>16.194475</td>\n",
              "      <td>18.610054</td>\n",
              "      <td>20.151899</td>\n",
              "      <td>18.930888</td>\n",
              "      <td>83.168579</td>\n",
              "      <td>5.730406</td>\n",
              "      <td>62.436841</td>\n",
              "      <td>-37.302272</td>\n",
              "      <td>-2.634734</td>\n",
              "    </tr>\n",
              "  </tbody>\n",
              "</table>\n",
              "<p>140756 rows × 44 columns</p>\n",
              "</div>"
            ],
            "text/plain": [
              "              label  year  month  ...    win_3_mean   trend_win3   z_score\n",
              "value                             ...                                     \n",
              "41062.000000      0  2018     12  ...  41522.000000  -460.000000  1.038317\n",
              "40928.000000      0  2018     12  ...  41205.666667  -277.666667  0.961162\n",
              "40915.000000      0  2018     12  ...  40968.333333   -53.333333  0.903275\n",
              "40846.000000      0  2018     12  ...  40896.333333   -50.333333  0.885714\n",
              "40800.000000      0  2018     12  ...  40853.666667   -53.666667  0.875307\n",
              "...             ...   ...    ...  ...           ...          ...       ...\n",
              "980.530954        1  2019      1  ...   1648.859467  -668.328513  0.602373\n",
              "34.024575         1  2019      1  ...     40.059146    -6.034571 -0.102082\n",
              "2157.467904       1  2019      1  ...    719.155968  1438.311936  5.731634\n",
              "1737.753166       1  2019      1  ...   1808.249298   -70.496133  0.808414\n",
              "25.134569         1  2019      1  ...     62.436841   -37.302272 -2.634734\n",
              "\n",
              "[140756 rows x 44 columns]"
            ]
          },
          "metadata": {},
          "execution_count": 3
        }
      ]
    },
    {
      "cell_type": "code",
      "metadata": {
        "id": "Ugt0-boLOvCP"
      },
      "source": [
        "df_test = pd.read_excel('/content/drive/MyDrive/KPI_test_new.xlsx', index_col=0)"
      ],
      "execution_count": null,
      "outputs": []
    },
    {
      "cell_type": "code",
      "metadata": {
        "id": "o1-oPPJZOwx1"
      },
      "source": [
        "df_test.reset_index(inplace=True)\n",
        "df_train.reset_index(inplace=True)"
      ],
      "execution_count": null,
      "outputs": []
    },
    {
      "cell_type": "code",
      "metadata": {
        "id": "JGy_AZVJOyAA"
      },
      "source": [
        "train_X = df_train.drop('label', axis=1)\n",
        "train_Y = df_train['label']\n",
        "test_X = df_test.drop('label', axis=1) #17136筆test data\n",
        "test_Y = df_test['label'] #394個異常data"
      ],
      "execution_count": null,
      "outputs": []
    },
    {
      "cell_type": "code",
      "metadata": {
        "colab": {
          "base_uri": "https://localhost:8080/"
        },
        "id": "3WUa6HoINhme",
        "outputId": "ab47a651-846b-4fdf-f26c-c4d88a0c52ff"
      },
      "source": [
        "!pip install catboost"
      ],
      "execution_count": null,
      "outputs": [
        {
          "output_type": "stream",
          "name": "stdout",
          "text": [
            "Collecting catboost\n",
            "  Downloading catboost-0.26.1-cp37-none-manylinux1_x86_64.whl (67.4 MB)\n",
            "\u001b[K     |████████████████████████████████| 67.4 MB 28 kB/s \n",
            "\u001b[?25hRequirement already satisfied: scipy in /usr/local/lib/python3.7/dist-packages (from catboost) (1.4.1)\n",
            "Requirement already satisfied: six in /usr/local/lib/python3.7/dist-packages (from catboost) (1.15.0)\n",
            "Requirement already satisfied: pandas>=0.24.0 in /usr/local/lib/python3.7/dist-packages (from catboost) (1.1.5)\n",
            "Requirement already satisfied: numpy>=1.16.0 in /usr/local/lib/python3.7/dist-packages (from catboost) (1.19.5)\n",
            "Requirement already satisfied: graphviz in /usr/local/lib/python3.7/dist-packages (from catboost) (0.10.1)\n",
            "Requirement already satisfied: plotly in /usr/local/lib/python3.7/dist-packages (from catboost) (4.4.1)\n",
            "Requirement already satisfied: matplotlib in /usr/local/lib/python3.7/dist-packages (from catboost) (3.2.2)\n",
            "Requirement already satisfied: python-dateutil>=2.7.3 in /usr/local/lib/python3.7/dist-packages (from pandas>=0.24.0->catboost) (2.8.2)\n",
            "Requirement already satisfied: pytz>=2017.2 in /usr/local/lib/python3.7/dist-packages (from pandas>=0.24.0->catboost) (2018.9)\n",
            "Requirement already satisfied: cycler>=0.10 in /usr/local/lib/python3.7/dist-packages (from matplotlib->catboost) (0.10.0)\n",
            "Requirement already satisfied: pyparsing!=2.0.4,!=2.1.2,!=2.1.6,>=2.0.1 in /usr/local/lib/python3.7/dist-packages (from matplotlib->catboost) (2.4.7)\n",
            "Requirement already satisfied: kiwisolver>=1.0.1 in /usr/local/lib/python3.7/dist-packages (from matplotlib->catboost) (1.3.2)\n",
            "Requirement already satisfied: retrying>=1.3.3 in /usr/local/lib/python3.7/dist-packages (from plotly->catboost) (1.3.3)\n",
            "Installing collected packages: catboost\n",
            "Successfully installed catboost-0.26.1\n"
          ]
        }
      ]
    },
    {
      "cell_type": "code",
      "metadata": {
        "id": "G7hugU5zMHVv"
      },
      "source": [
        "from catboost import  CatBoostClassifier ,Pool"
      ],
      "execution_count": null,
      "outputs": []
    },
    {
      "cell_type": "code",
      "metadata": {
        "id": "Hqf82rc-NLLH"
      },
      "source": [
        "params = {'loss_function':'Logloss',\n",
        "          'eval_metric':'AUC',\n",
        "          'verbose': 50,#200\n",
        "          'random_seed': 2021\n",
        "          #'learning_rate': 0.03\n",
        "         }"
      ],
      "execution_count": null,
      "outputs": []
    },
    {
      "cell_type": "code",
      "metadata": {
        "id": "hV_MqOzs5Rm3"
      },
      "source": [
        "params = {\n",
        "                'n_estimators':5000,\n",
        "                'learning_rate': 0.04,\n",
        "                'eval_metric':'F1',\n",
        "                'loss_function':'Logloss',\n",
        "                'random_seed':2021,\n",
        "                'metric_period':500,\n",
        "                'od_wait':500,\n",
        "                #'task_type':'GPU',\n",
        "                'depth': 8,\n",
        "                #'colsample_bylevel':0.7,\n",
        "                } "
      ],
      "execution_count": null,
      "outputs": []
    },
    {
      "cell_type": "code",
      "metadata": {
        "id": "6Tuwq3Rk5vVX"
      },
      "source": [
        "params ={ 'loss_function' : \"Logloss\",\n",
        "                           'eval_metric':\"F1\",\n",
        "                           #'task_type=\"GPU\",\n",
        "                           'learning_rate':0.01,\n",
        "                           'iterations':10000,\n",
        "                           'random_seed':42,\n",
        "                           'od_type':\"Iter\",\n",
        "                           'depth':10,\n",
        "                           'early_stopping_rounds':500\n",
        "}"
      ],
      "execution_count": null,
      "outputs": []
    },
    {
      "cell_type": "code",
      "metadata": {
        "id": "mxwwqmKcOZHr"
      },
      "source": [
        " model = CatBoostClassifier(**params)"
      ],
      "execution_count": null,
      "outputs": []
    },
    {
      "cell_type": "code",
      "metadata": {
        "colab": {
          "base_uri": "https://localhost:8080/"
        },
        "id": "cZxu9CyzOau5",
        "outputId": "3fa67036-ff57-43fb-8f31-dfe52609f4a1"
      },
      "source": [
        "model.fit(train_X, train_Y)"
      ],
      "execution_count": null,
      "outputs": [
        {
          "output_type": "stream",
          "name": "stdout",
          "text": [
            "Learning rate set to 0.085178\n",
            "0:\ttotal: 127ms\tremaining: 2m 6s\n",
            "50:\ttotal: 3.64s\tremaining: 1m 7s\n",
            "100:\ttotal: 7.13s\tremaining: 1m 3s\n",
            "150:\ttotal: 10.5s\tremaining: 59.2s\n",
            "200:\ttotal: 14s\tremaining: 55.6s\n",
            "250:\ttotal: 17.4s\tremaining: 52s\n",
            "300:\ttotal: 20.8s\tremaining: 48.3s\n",
            "350:\ttotal: 24.1s\tremaining: 44.6s\n",
            "400:\ttotal: 27.4s\tremaining: 40.9s\n",
            "450:\ttotal: 30.4s\tremaining: 37s\n",
            "500:\ttotal: 33.4s\tremaining: 33.3s\n",
            "550:\ttotal: 36.5s\tremaining: 29.7s\n",
            "600:\ttotal: 39.5s\tremaining: 26.2s\n",
            "650:\ttotal: 42.6s\tremaining: 22.8s\n",
            "700:\ttotal: 45.6s\tremaining: 19.4s\n",
            "750:\ttotal: 48.6s\tremaining: 16.1s\n",
            "800:\ttotal: 51.6s\tremaining: 12.8s\n",
            "850:\ttotal: 54.5s\tremaining: 9.55s\n",
            "900:\ttotal: 57.5s\tremaining: 6.32s\n",
            "950:\ttotal: 1m\tremaining: 3.12s\n",
            "999:\ttotal: 1m 3s\tremaining: 0us\n"
          ]
        },
        {
          "output_type": "execute_result",
          "data": {
            "text/plain": [
              "<catboost.core.CatBoostClassifier at 0x7f92ce59d1d0>"
            ]
          },
          "metadata": {},
          "execution_count": 11
        }
      ]
    },
    {
      "cell_type": "code",
      "metadata": {
        "id": "tZT3M0pwO9x2"
      },
      "source": [
        "pre = model.predict(test_X)"
      ],
      "execution_count": null,
      "outputs": []
    },
    {
      "cell_type": "code",
      "metadata": {
        "id": "NAuMujhwQASn"
      },
      "source": [
        "from sklearn.metrics import make_scorer,f1_score"
      ],
      "execution_count": null,
      "outputs": []
    },
    {
      "cell_type": "code",
      "metadata": {
        "colab": {
          "base_uri": "https://localhost:8080/"
        },
        "id": "eB1yBjvVP6Lm",
        "outputId": "cef7850b-ee80-4bb1-b358-6fefbf150f32"
      },
      "source": [
        "f1_score(test_Y, pre)"
      ],
      "execution_count": null,
      "outputs": [
        {
          "output_type": "execute_result",
          "data": {
            "text/plain": [
              "0.7784730913642052"
            ]
          },
          "metadata": {},
          "execution_count": 70
        }
      ]
    },
    {
      "cell_type": "code",
      "metadata": {
        "colab": {
          "base_uri": "https://localhost:8080/"
        },
        "id": "mfYMpXSzP8zY",
        "outputId": "f5ffc2fc-2696-4909-d171-4529235f1807"
      },
      "source": [
        "from sklearn.metrics import classification_report\n",
        "print(\"report:\\n\",classification_report(test_Y,pre))"
      ],
      "execution_count": null,
      "outputs": [
        {
          "output_type": "stream",
          "name": "stdout",
          "text": [
            "report:\n",
            "               precision    recall  f1-score   support\n",
            "\n",
            "           0       1.00      0.99      0.99     16742\n",
            "           1       0.77      0.79      0.78       394\n",
            "\n",
            "    accuracy                           0.99     17136\n",
            "   macro avg       0.88      0.89      0.89     17136\n",
            "weighted avg       0.99      0.99      0.99     17136\n",
            "\n"
          ]
        }
      ]
    },
    {
      "cell_type": "code",
      "metadata": {
        "id": "HyX6fczNPK4m"
      },
      "source": [
        "from sklearn.metrics import confusion_matrix, roc_auc_score"
      ],
      "execution_count": null,
      "outputs": []
    },
    {
      "cell_type": "code",
      "metadata": {
        "colab": {
          "base_uri": "https://localhost:8080/"
        },
        "id": "5kj6ct2YQD-s",
        "outputId": "35803c1b-a807-4bd7-b852-eb3f46d0d2a9"
      },
      "source": [
        "confusion_matrix(test_Y,pre) #F1: 0.7784"
      ],
      "execution_count": null,
      "outputs": [
        {
          "output_type": "execute_result",
          "data": {
            "text/plain": [
              "array([[16648,    94],\n",
              "       [   83,   311]])"
            ]
          },
          "metadata": {},
          "execution_count": 73
        }
      ]
    },
    {
      "cell_type": "code",
      "metadata": {
        "id": "bGA8JKi0QNnm",
        "colab": {
          "base_uri": "https://localhost:8080/"
        },
        "outputId": "fa20b7d3-996c-496a-978e-3b8e4cbad6cf"
      },
      "source": [
        "confusion_matrix(test_Y,pre) #F1: 0.7784"
      ],
      "execution_count": null,
      "outputs": [
        {
          "output_type": "execute_result",
          "data": {
            "text/plain": [
              "array([[16648,    94],\n",
              "       [   83,   311]])"
            ]
          },
          "metadata": {},
          "execution_count": 74
        }
      ]
    },
    {
      "cell_type": "code",
      "metadata": {
        "colab": {
          "base_uri": "https://localhost:8080/",
          "height": 166
        },
        "id": "xWaHQobtPIoA",
        "outputId": "76c785b4-6f06-456c-aa98-f088c4e5fa56"
      },
      "source": [
        "model.plot_importance(clf, max_num_features=25)"
      ],
      "execution_count": null,
      "outputs": [
        {
          "output_type": "error",
          "ename": "AttributeError",
          "evalue": "ignored",
          "traceback": [
            "\u001b[0;31m---------------------------------------------------------------------------\u001b[0m",
            "\u001b[0;31mAttributeError\u001b[0m                            Traceback (most recent call last)",
            "\u001b[0;32m<ipython-input-12-0647d580d1d2>\u001b[0m in \u001b[0;36m<module>\u001b[0;34m()\u001b[0m\n\u001b[0;32m----> 1\u001b[0;31m \u001b[0mmodel\u001b[0m\u001b[0;34m.\u001b[0m\u001b[0mplot_importance\u001b[0m\u001b[0;34m(\u001b[0m\u001b[0mclf\u001b[0m\u001b[0;34m,\u001b[0m \u001b[0mmax_num_features\u001b[0m\u001b[0;34m=\u001b[0m\u001b[0;36m25\u001b[0m\u001b[0;34m)\u001b[0m\u001b[0;34m\u001b[0m\u001b[0;34m\u001b[0m\u001b[0m\n\u001b[0m",
            "\u001b[0;31mAttributeError\u001b[0m: 'CatBoostClassifier' object has no attribute 'plot_importance'"
          ]
        }
      ]
    },
    {
      "cell_type": "code",
      "metadata": {
        "id": "VHwkDvlYA_Yu"
      },
      "source": [
        ""
      ],
      "execution_count": null,
      "outputs": []
    }
  ]
}