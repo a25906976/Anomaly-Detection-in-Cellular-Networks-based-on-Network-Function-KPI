{
  "nbformat": 4,
  "nbformat_minor": 0,
  "metadata": {
    "colab": {
      "name": "LightGBM_KPI.ipynb",
      "provenance": [],
      "collapsed_sections": []
    },
    "kernelspec": {
      "name": "python3",
      "display_name": "Python 3"
    },
    "language_info": {
      "name": "python"
    }
  },
  "cells": [
    {
      "cell_type": "code",
      "metadata": {
        "id": "4xJVceMWYTeg"
      },
      "source": [
        "import numpy as np\n",
        "import pandas as pd\n",
        "import lightgbm as lgb"
      ],
      "execution_count": null,
      "outputs": []
    },
    {
      "cell_type": "code",
      "metadata": {
        "colab": {
          "base_uri": "https://localhost:8080/"
        },
        "id": "v_00G4gCYYet",
        "outputId": "21d4d461-a258-44fd-a30d-e2c1806fb541"
      },
      "source": [
        "from google.colab import drive\n",
        "drive.mount('/content/drive')"
      ],
      "execution_count": null,
      "outputs": [
        {
          "output_type": "stream",
          "name": "stdout",
          "text": [
            "Mounted at /content/drive\n"
          ]
        }
      ]
    },
    {
      "cell_type": "code",
      "metadata": {
        "colab": {
          "base_uri": "https://localhost:8080/",
          "height": 443
        },
        "id": "daKR4JJxYZCg",
        "outputId": "0fdea628-2003-4b5b-9c0f-0cdaec44604d"
      },
      "source": [
        "df_train = pd.read_excel('/content/drive/MyDrive/KPI_train.xlsx', index_col=0)\n",
        "df_train"
      ],
      "execution_count": null,
      "outputs": [
        {
          "output_type": "execute_result",
          "data": {
            "text/html": [
              "<div>\n",
              "<style scoped>\n",
              "    .dataframe tbody tr th:only-of-type {\n",
              "        vertical-align: middle;\n",
              "    }\n",
              "\n",
              "    .dataframe tbody tr th {\n",
              "        vertical-align: top;\n",
              "    }\n",
              "\n",
              "    .dataframe thead th {\n",
              "        text-align: right;\n",
              "    }\n",
              "</style>\n",
              "<table border=\"1\" class=\"dataframe\">\n",
              "  <thead>\n",
              "    <tr style=\"text-align: right;\">\n",
              "      <th></th>\n",
              "      <th>value</th>\n",
              "      <th>label</th>\n",
              "      <th>weekday</th>\n",
              "      <th>hour</th>\n",
              "      <th>weekend</th>\n",
              "      <th>daylight</th>\n",
              "      <th>kpi_id</th>\n",
              "      <th>win_2_mean_value</th>\n",
              "      <th>win_3_mean_value</th>\n",
              "      <th>win_6_mean_value</th>\n",
              "      <th>win_6_std_value</th>\n",
              "      <th>win_6_skew_value</th>\n",
              "      <th>win_6_kurt_value</th>\n",
              "      <th>win_6_q25_value</th>\n",
              "      <th>win_6_q50_value</th>\n",
              "      <th>win_6_q75_value</th>\n",
              "      <th>win_12_mean_value</th>\n",
              "      <th>win_12_std_value</th>\n",
              "      <th>win_12_skew_value</th>\n",
              "      <th>win_12_kurt_value</th>\n",
              "      <th>win_12_q25_value</th>\n",
              "      <th>win_12_q50_value</th>\n",
              "      <th>win_12_q75_value</th>\n",
              "      <th>x_y_value_1</th>\n",
              "      <th>x_y_value_24</th>\n",
              "      <th>x_y_value_48</th>\n",
              "      <th>x_y_value_144</th>\n",
              "      <th>x_y_value_168</th>\n",
              "      <th>x_y_win_2_mean_value_1</th>\n",
              "      <th>x_y_win_2_mean_value_24</th>\n",
              "      <th>x_y_win_2_mean_value_48</th>\n",
              "      <th>x_y_win_2_mean_value_144</th>\n",
              "      <th>x_y_win_2_mean_value_168</th>\n",
              "      <th>x_y_win_3_mean_value_1</th>\n",
              "      <th>x_y_win_3_mean_value_24</th>\n",
              "      <th>x_y_win_3_mean_value_48</th>\n",
              "      <th>x_y_win_3_mean_value_144</th>\n",
              "      <th>x_y_win_3_mean_value_168</th>\n",
              "      <th>expa_mean</th>\n",
              "      <th>expa_std</th>\n",
              "      <th>win_3_mean</th>\n",
              "      <th>trend_win3</th>\n",
              "      <th>z_score</th>\n",
              "    </tr>\n",
              "  </thead>\n",
              "  <tbody>\n",
              "    <tr>\n",
              "      <th>0</th>\n",
              "      <td>41062.000000</td>\n",
              "      <td>0</td>\n",
              "      <td>7</td>\n",
              "      <td>0</td>\n",
              "      <td>1</td>\n",
              "      <td>1</td>\n",
              "      <td>0</td>\n",
              "      <td>41344.500000</td>\n",
              "      <td>41522.000000</td>\n",
              "      <td>41946.500000</td>\n",
              "      <td>561.820167</td>\n",
              "      <td>-0.492438</td>\n",
              "      <td>0.196486</td>\n",
              "      <td>41689.500000</td>\n",
              "      <td>42010.500000</td>\n",
              "      <td>42258.000000</td>\n",
              "      <td>42207.416667</td>\n",
              "      <td>489.034942</td>\n",
              "      <td>-1.258341</td>\n",
              "      <td>1.550799</td>\n",
              "      <td>42077.250000</td>\n",
              "      <td>42266.500000</td>\n",
              "      <td>42547.750000</td>\n",
              "      <td>565.000000</td>\n",
              "      <td>30.000000</td>\n",
              "      <td>84.000000</td>\n",
              "      <td>633.000000</td>\n",
              "      <td>7346.000000</td>\n",
              "      <td>407.500000</td>\n",
              "      <td>54.500000</td>\n",
              "      <td>234.500000</td>\n",
              "      <td>488.000000</td>\n",
              "      <td>7063.500000</td>\n",
              "      <td>360.666667</td>\n",
              "      <td>78.333333</td>\n",
              "      <td>292.666667</td>\n",
              "      <td>505.333333</td>\n",
              "      <td>0.000000</td>\n",
              "      <td>42281.207101</td>\n",
              "      <td>1060.623002</td>\n",
              "      <td>41522.000000</td>\n",
              "      <td>-460.000000</td>\n",
              "      <td>1.038317</td>\n",
              "    </tr>\n",
              "    <tr>\n",
              "      <th>1</th>\n",
              "      <td>40928.000000</td>\n",
              "      <td>0</td>\n",
              "      <td>7</td>\n",
              "      <td>1</td>\n",
              "      <td>1</td>\n",
              "      <td>1</td>\n",
              "      <td>0</td>\n",
              "      <td>40995.000000</td>\n",
              "      <td>41205.666667</td>\n",
              "      <td>41655.666667</td>\n",
              "      <td>562.182414</td>\n",
              "      <td>-0.345635</td>\n",
              "      <td>-1.821184</td>\n",
              "      <td>41203.250000</td>\n",
              "      <td>41752.000000</td>\n",
              "      <td>42077.250000</td>\n",
              "      <td>42098.333333</td>\n",
              "      <td>612.294393</td>\n",
              "      <td>-0.987645</td>\n",
              "      <td>-0.105631</td>\n",
              "      <td>41814.500000</td>\n",
              "      <td>42243.000000</td>\n",
              "      <td>42547.750000</td>\n",
              "      <td>134.000000</td>\n",
              "      <td>0.000000</td>\n",
              "      <td>88.000000</td>\n",
              "      <td>353.000000</td>\n",
              "      <td>6529.000000</td>\n",
              "      <td>349.500000</td>\n",
              "      <td>15.000000</td>\n",
              "      <td>86.000000</td>\n",
              "      <td>493.000000</td>\n",
              "      <td>6937.500000</td>\n",
              "      <td>316.333333</td>\n",
              "      <td>36.333333</td>\n",
              "      <td>185.666667</td>\n",
              "      <td>443.000000</td>\n",
              "      <td>6726.833333</td>\n",
              "      <td>42273.247059</td>\n",
              "      <td>1062.561245</td>\n",
              "      <td>41205.666667</td>\n",
              "      <td>-277.666667</td>\n",
              "      <td>0.961162</td>\n",
              "    </tr>\n",
              "    <tr>\n",
              "      <th>2</th>\n",
              "      <td>40915.000000</td>\n",
              "      <td>0</td>\n",
              "      <td>7</td>\n",
              "      <td>2</td>\n",
              "      <td>1</td>\n",
              "      <td>1</td>\n",
              "      <td>0</td>\n",
              "      <td>40921.500000</td>\n",
              "      <td>40968.333333</td>\n",
              "      <td>41425.500000</td>\n",
              "      <td>529.328915</td>\n",
              "      <td>0.337669</td>\n",
              "      <td>-2.180977</td>\n",
              "      <td>40961.500000</td>\n",
              "      <td>41344.500000</td>\n",
              "      <td>41814.500000</td>\n",
              "      <td>41992.083333</td>\n",
              "      <td>699.373415</td>\n",
              "      <td>-0.639919</td>\n",
              "      <td>-1.237153</td>\n",
              "      <td>41485.750000</td>\n",
              "      <td>42220.000000</td>\n",
              "      <td>42547.750000</td>\n",
              "      <td>13.000000</td>\n",
              "      <td>2.000000</td>\n",
              "      <td>14.000000</td>\n",
              "      <td>296.000000</td>\n",
              "      <td>5857.000000</td>\n",
              "      <td>73.500000</td>\n",
              "      <td>1.000000</td>\n",
              "      <td>37.000000</td>\n",
              "      <td>324.500000</td>\n",
              "      <td>6193.000000</td>\n",
              "      <td>237.333333</td>\n",
              "      <td>9.333333</td>\n",
              "      <td>52.666667</td>\n",
              "      <td>427.333333</td>\n",
              "      <td>6577.333333</td>\n",
              "      <td>42265.304094</td>\n",
              "      <td>1064.510929</td>\n",
              "      <td>40968.333333</td>\n",
              "      <td>-53.333333</td>\n",
              "      <td>0.903275</td>\n",
              "    </tr>\n",
              "    <tr>\n",
              "      <th>3</th>\n",
              "      <td>40846.000000</td>\n",
              "      <td>0</td>\n",
              "      <td>7</td>\n",
              "      <td>3</td>\n",
              "      <td>1</td>\n",
              "      <td>1</td>\n",
              "      <td>0</td>\n",
              "      <td>40880.500000</td>\n",
              "      <td>40896.333333</td>\n",
              "      <td>41209.166667</td>\n",
              "      <td>433.525739</td>\n",
              "      <td>1.001611</td>\n",
              "      <td>-1.077779</td>\n",
              "      <td>40918.250000</td>\n",
              "      <td>40995.000000</td>\n",
              "      <td>41485.750000</td>\n",
              "      <td>41851.250000</td>\n",
              "      <td>748.331978</td>\n",
              "      <td>-0.269897</td>\n",
              "      <td>-1.741423</td>\n",
              "      <td>41028.500000</td>\n",
              "      <td>42010.500000</td>\n",
              "      <td>42523.000000</td>\n",
              "      <td>69.000000</td>\n",
              "      <td>4.000000</td>\n",
              "      <td>16.000000</td>\n",
              "      <td>273.000000</td>\n",
              "      <td>5327.000000</td>\n",
              "      <td>41.000000</td>\n",
              "      <td>3.000000</td>\n",
              "      <td>15.000000</td>\n",
              "      <td>284.500000</td>\n",
              "      <td>5592.000000</td>\n",
              "      <td>72.000000</td>\n",
              "      <td>2.000000</td>\n",
              "      <td>19.333333</td>\n",
              "      <td>307.333333</td>\n",
              "      <td>5904.333333</td>\n",
              "      <td>42257.052326</td>\n",
              "      <td>1066.896660</td>\n",
              "      <td>40896.333333</td>\n",
              "      <td>-50.333333</td>\n",
              "      <td>0.885714</td>\n",
              "    </tr>\n",
              "    <tr>\n",
              "      <th>4</th>\n",
              "      <td>40800.000000</td>\n",
              "      <td>0</td>\n",
              "      <td>7</td>\n",
              "      <td>4</td>\n",
              "      <td>1</td>\n",
              "      <td>1</td>\n",
              "      <td>0</td>\n",
              "      <td>40823.000000</td>\n",
              "      <td>40853.666667</td>\n",
              "      <td>41029.666667</td>\n",
              "      <td>305.881459</td>\n",
              "      <td>2.015751</td>\n",
              "      <td>4.266029</td>\n",
              "      <td>40863.250000</td>\n",
              "      <td>40921.500000</td>\n",
              "      <td>41028.500000</td>\n",
              "      <td>41702.666667</td>\n",
              "      <td>766.619063</td>\n",
              "      <td>0.080060</td>\n",
              "      <td>-1.829722</td>\n",
              "      <td>40924.750000</td>\n",
              "      <td>41752.000000</td>\n",
              "      <td>42347.750000</td>\n",
              "      <td>46.000000</td>\n",
              "      <td>5.000000</td>\n",
              "      <td>2.000000</td>\n",
              "      <td>286.000000</td>\n",
              "      <td>3180.000000</td>\n",
              "      <td>57.500000</td>\n",
              "      <td>4.500000</td>\n",
              "      <td>7.000000</td>\n",
              "      <td>279.500000</td>\n",
              "      <td>4253.500000</td>\n",
              "      <td>42.666667</td>\n",
              "      <td>3.666667</td>\n",
              "      <td>9.333333</td>\n",
              "      <td>285.000000</td>\n",
              "      <td>4788.000000</td>\n",
              "      <td>42248.630058</td>\n",
              "      <td>1069.543046</td>\n",
              "      <td>40853.666667</td>\n",
              "      <td>-53.666667</td>\n",
              "      <td>0.875307</td>\n",
              "    </tr>\n",
              "    <tr>\n",
              "      <th>...</th>\n",
              "      <td>...</td>\n",
              "      <td>...</td>\n",
              "      <td>...</td>\n",
              "      <td>...</td>\n",
              "      <td>...</td>\n",
              "      <td>...</td>\n",
              "      <td>...</td>\n",
              "      <td>...</td>\n",
              "      <td>...</td>\n",
              "      <td>...</td>\n",
              "      <td>...</td>\n",
              "      <td>...</td>\n",
              "      <td>...</td>\n",
              "      <td>...</td>\n",
              "      <td>...</td>\n",
              "      <td>...</td>\n",
              "      <td>...</td>\n",
              "      <td>...</td>\n",
              "      <td>...</td>\n",
              "      <td>...</td>\n",
              "      <td>...</td>\n",
              "      <td>...</td>\n",
              "      <td>...</td>\n",
              "      <td>...</td>\n",
              "      <td>...</td>\n",
              "      <td>...</td>\n",
              "      <td>...</td>\n",
              "      <td>...</td>\n",
              "      <td>...</td>\n",
              "      <td>...</td>\n",
              "      <td>...</td>\n",
              "      <td>...</td>\n",
              "      <td>...</td>\n",
              "      <td>...</td>\n",
              "      <td>...</td>\n",
              "      <td>...</td>\n",
              "      <td>...</td>\n",
              "      <td>...</td>\n",
              "      <td>...</td>\n",
              "      <td>...</td>\n",
              "      <td>...</td>\n",
              "      <td>...</td>\n",
              "      <td>...</td>\n",
              "    </tr>\n",
              "    <tr>\n",
              "      <th>174235</th>\n",
              "      <td>688.646200</td>\n",
              "      <td>1</td>\n",
              "      <td>5</td>\n",
              "      <td>16</td>\n",
              "      <td>1</td>\n",
              "      <td>0</td>\n",
              "      <td>40</td>\n",
              "      <td>737.461718</td>\n",
              "      <td>496.484225</td>\n",
              "      <td>255.622916</td>\n",
              "      <td>376.085756</td>\n",
              "      <td>1.032297</td>\n",
              "      <td>-1.490974</td>\n",
              "      <td>14.383258</td>\n",
              "      <td>16.164285</td>\n",
              "      <td>511.363278</td>\n",
              "      <td>131.065420</td>\n",
              "      <td>285.076854</td>\n",
              "      <td>2.106495</td>\n",
              "      <td>3.035914</td>\n",
              "      <td>6.910602</td>\n",
              "      <td>13.102231</td>\n",
              "      <td>16.344028</td>\n",
              "      <td>122.397551</td>\n",
              "      <td>671.700889</td>\n",
              "      <td>674.689951</td>\n",
              "      <td>672.700889</td>\n",
              "      <td>672.554907</td>\n",
              "      <td>337.058480</td>\n",
              "      <td>720.729911</td>\n",
              "      <td>723.932478</td>\n",
              "      <td>721.943416</td>\n",
              "      <td>721.156920</td>\n",
              "      <td>224.518302</td>\n",
              "      <td>480.868601</td>\n",
              "      <td>483.288319</td>\n",
              "      <td>481.677604</td>\n",
              "      <td>480.962277</td>\n",
              "      <td>12.861867</td>\n",
              "      <td>80.093719</td>\n",
              "      <td>496.484225</td>\n",
              "      <td>192.161975</td>\n",
              "      <td>7.572131</td>\n",
              "    </tr>\n",
              "    <tr>\n",
              "      <th>174236</th>\n",
              "      <td>0.000000</td>\n",
              "      <td>1</td>\n",
              "      <td>7</td>\n",
              "      <td>1</td>\n",
              "      <td>1</td>\n",
              "      <td>1</td>\n",
              "      <td>32</td>\n",
              "      <td>301.723964</td>\n",
              "      <td>552.542587</td>\n",
              "      <td>1189.775506</td>\n",
              "      <td>801.552696</td>\n",
              "      <td>-0.402460</td>\n",
              "      <td>-0.857450</td>\n",
              "      <td>716.130904</td>\n",
              "      <td>1280.187776</td>\n",
              "      <td>1735.037499</td>\n",
              "      <td>2348.120994</td>\n",
              "      <td>1344.081477</td>\n",
              "      <td>-0.436286</td>\n",
              "      <td>-1.165143</td>\n",
              "      <td>1393.191747</td>\n",
              "      <td>2705.159529</td>\n",
              "      <td>3340.819508</td>\n",
              "      <td>603.447928</td>\n",
              "      <td>292.706215</td>\n",
              "      <td>260.122376</td>\n",
              "      <td>238.777210</td>\n",
              "      <td>227.503039</td>\n",
              "      <td>527.089917</td>\n",
              "      <td>132.216022</td>\n",
              "      <td>95.132182</td>\n",
              "      <td>54.512845</td>\n",
              "      <td>43.720925</td>\n",
              "      <td>502.065239</td>\n",
              "      <td>87.282735</td>\n",
              "      <td>56.433287</td>\n",
              "      <td>6.988168</td>\n",
              "      <td>13.527947</td>\n",
              "      <td>1761.798028</td>\n",
              "      <td>1340.618958</td>\n",
              "      <td>552.542587</td>\n",
              "      <td>-552.542587</td>\n",
              "      <td>-0.830883</td>\n",
              "    </tr>\n",
              "    <tr>\n",
              "      <th>174237</th>\n",
              "      <td>19.678549</td>\n",
              "      <td>1</td>\n",
              "      <td>5</td>\n",
              "      <td>6</td>\n",
              "      <td>1</td>\n",
              "      <td>1</td>\n",
              "      <td>86</td>\n",
              "      <td>24.832390</td>\n",
              "      <td>35.396432</td>\n",
              "      <td>53.423597</td>\n",
              "      <td>25.062571</td>\n",
              "      <td>-0.063957</td>\n",
              "      <td>-0.524379</td>\n",
              "      <td>36.620802</td>\n",
              "      <td>58.714658</td>\n",
              "      <td>65.727581</td>\n",
              "      <td>59.489640</td>\n",
              "      <td>25.566982</td>\n",
              "      <td>-0.191585</td>\n",
              "      <td>-1.236187</td>\n",
              "      <td>37.495318</td>\n",
              "      <td>64.117557</td>\n",
              "      <td>81.204989</td>\n",
              "      <td>10.307682</td>\n",
              "      <td>52.696438</td>\n",
              "      <td>64.345308</td>\n",
              "      <td>48.418186</td>\n",
              "      <td>49.216512</td>\n",
              "      <td>18.422982</td>\n",
              "      <td>43.814698</td>\n",
              "      <td>46.532490</td>\n",
              "      <td>54.526689</td>\n",
              "      <td>49.225527</td>\n",
              "      <td>15.885542</td>\n",
              "      <td>39.307903</td>\n",
              "      <td>32.234030</td>\n",
              "      <td>41.848406</td>\n",
              "      <td>39.240972</td>\n",
              "      <td>76.065892</td>\n",
              "      <td>10.504967</td>\n",
              "      <td>35.396432</td>\n",
              "      <td>-15.717882</td>\n",
              "      <td>-4.085369</td>\n",
              "    </tr>\n",
              "    <tr>\n",
              "      <th>174238</th>\n",
              "      <td>974.000000</td>\n",
              "      <td>1</td>\n",
              "      <td>2</td>\n",
              "      <td>12</td>\n",
              "      <td>0</td>\n",
              "      <td>0</td>\n",
              "      <td>60</td>\n",
              "      <td>1327.000000</td>\n",
              "      <td>1402.333333</td>\n",
              "      <td>1242.000000</td>\n",
              "      <td>352.136905</td>\n",
              "      <td>-0.090957</td>\n",
              "      <td>-1.551753</td>\n",
              "      <td>1008.250000</td>\n",
              "      <td>1239.500000</td>\n",
              "      <td>1506.750000</td>\n",
              "      <td>883.833333</td>\n",
              "      <td>458.271621</td>\n",
              "      <td>0.575209</td>\n",
              "      <td>-0.963211</td>\n",
              "      <td>486.000000</td>\n",
              "      <td>787.500000</td>\n",
              "      <td>1175.250000</td>\n",
              "      <td>706.000000</td>\n",
              "      <td>796.000000</td>\n",
              "      <td>747.000000</td>\n",
              "      <td>789.000000</td>\n",
              "      <td>866.000000</td>\n",
              "      <td>289.500000</td>\n",
              "      <td>354.000000</td>\n",
              "      <td>305.000000</td>\n",
              "      <td>391.500000</td>\n",
              "      <td>457.000000</td>\n",
              "      <td>131.333333</td>\n",
              "      <td>221.000000</td>\n",
              "      <td>185.333333</td>\n",
              "      <td>235.333333</td>\n",
              "      <td>313.666667</td>\n",
              "      <td>1297.416109</td>\n",
              "      <td>555.264386</td>\n",
              "      <td>1402.333333</td>\n",
              "      <td>-428.333333</td>\n",
              "      <td>0.196323</td>\n",
              "    </tr>\n",
              "    <tr>\n",
              "      <th>174239</th>\n",
              "      <td>98.509407</td>\n",
              "      <td>1</td>\n",
              "      <td>2</td>\n",
              "      <td>2</td>\n",
              "      <td>0</td>\n",
              "      <td>1</td>\n",
              "      <td>58</td>\n",
              "      <td>395.131936</td>\n",
              "      <td>561.289116</td>\n",
              "      <td>972.735571</td>\n",
              "      <td>532.371243</td>\n",
              "      <td>-0.818893</td>\n",
              "      <td>0.134225</td>\n",
              "      <td>742.216717</td>\n",
              "      <td>1043.443080</td>\n",
              "      <td>1370.282685</td>\n",
              "      <td>1347.922579</td>\n",
              "      <td>549.848194</td>\n",
              "      <td>-1.188055</td>\n",
              "      <td>0.999907</td>\n",
              "      <td>1118.362883</td>\n",
              "      <td>1479.631697</td>\n",
              "      <td>1791.424028</td>\n",
              "      <td>593.245057</td>\n",
              "      <td>497.263871</td>\n",
              "      <td>460.924267</td>\n",
              "      <td>522.056441</td>\n",
              "      <td>473.754464</td>\n",
              "      <td>397.547034</td>\n",
              "      <td>217.716837</td>\n",
              "      <td>187.716837</td>\n",
              "      <td>254.358418</td>\n",
              "      <td>216.301738</td>\n",
              "      <td>364.924426</td>\n",
              "      <td>110.308089</td>\n",
              "      <td>101.534492</td>\n",
              "      <td>158.899341</td>\n",
              "      <td>135.641422</td>\n",
              "      <td>1309.256446</td>\n",
              "      <td>572.681703</td>\n",
              "      <td>561.289116</td>\n",
              "      <td>-462.779709</td>\n",
              "      <td>-1.276338</td>\n",
              "    </tr>\n",
              "  </tbody>\n",
              "</table>\n",
              "<p>174240 rows × 43 columns</p>\n",
              "</div>"
            ],
            "text/plain": [
              "               value  label  weekday  ...    win_3_mean  trend_win3   z_score\n",
              "0       41062.000000      0        7  ...  41522.000000 -460.000000  1.038317\n",
              "1       40928.000000      0        7  ...  41205.666667 -277.666667  0.961162\n",
              "2       40915.000000      0        7  ...  40968.333333  -53.333333  0.903275\n",
              "3       40846.000000      0        7  ...  40896.333333  -50.333333  0.885714\n",
              "4       40800.000000      0        7  ...  40853.666667  -53.666667  0.875307\n",
              "...              ...    ...      ...  ...           ...         ...       ...\n",
              "174235    688.646200      1        5  ...    496.484225  192.161975  7.572131\n",
              "174236      0.000000      1        7  ...    552.542587 -552.542587 -0.830883\n",
              "174237     19.678549      1        5  ...     35.396432  -15.717882 -4.085369\n",
              "174238    974.000000      1        2  ...   1402.333333 -428.333333  0.196323\n",
              "174239     98.509407      1        2  ...    561.289116 -462.779709 -1.276338\n",
              "\n",
              "[174240 rows x 43 columns]"
            ]
          },
          "metadata": {},
          "execution_count": 3
        }
      ]
    },
    {
      "cell_type": "code",
      "metadata": {
        "id": "uFfbnWHhYvCy"
      },
      "source": [
        "df_test = pd.read_excel('/content/drive/MyDrive/KPI_test2.xlsx', index_col=0)\n",
        "df_test.reset_index(inplace=True)"
      ],
      "execution_count": null,
      "outputs": []
    },
    {
      "cell_type": "code",
      "metadata": {
        "id": "mVGILzBCYyAh"
      },
      "source": [
        "train_X = df_train.drop('label', axis=1)\n",
        "train_Y = df_train['label']\n",
        "test_X = df_test.drop('label', axis=1)\n",
        "test_Y = df_test['label'] #386個異常data"
      ],
      "execution_count": null,
      "outputs": []
    },
    {
      "cell_type": "code",
      "metadata": {
        "id": "Fkgqi8H8YzYn"
      },
      "source": [
        "params = {\n",
        "        'boosting_type': 'gbdt',\n",
        "        'objective': 'binary',\n",
        "        #'metric': {'binary_logloss,auc'},\n",
        "        'max_depth': 6,\n",
        "        'num_leaves': 64,\n",
        "        'learning_rate': 0.07,\n",
        "        #'min_child_samples':21,\n",
        "        #'min_child_weight':0.001,\n",
        "        #'mindatain_leaf': 1000,\n",
        "        'feature_fraction': 0.7,\n",
        "        'bagging_fraction': 0.7,\n",
        "        #'bagging_freq': 2,\n",
        "        #'min_split_gain':0.5,\n",
        "        'verbose': 0,\n",
        "        'is_unbalenced':True,\n",
        "    }"
      ],
      "execution_count": null,
      "outputs": []
    },
    {
      "cell_type": "code",
      "metadata": {
        "id": "rMmTZ3UWZ-YP"
      },
      "source": [
        "train_data = lgb.Dataset(train_X, label=train_Y)"
      ],
      "execution_count": null,
      "outputs": []
    },
    {
      "cell_type": "code",
      "metadata": {
        "id": "0THISB0IZZRo"
      },
      "source": [
        "clf = lgb.train(params,\n",
        "                    train_data,\n",
        "                    #valid_sets=[train_X, train_Y],\n",
        "                    #valid_names=['train', 'val'],\n",
        "                    #feval=lgb_f1_score,\n",
        "                    #evals_result=evals_result,\n",
        "                    verbose_eval=10,\n",
        "                    #categorical_feature=[],\n",
        "                    #early_stopping_rounds=20,\n",
        "                    num_boost_round = 50\n",
        "                    )"
      ],
      "execution_count": null,
      "outputs": []
    },
    {
      "cell_type": "code",
      "metadata": {
        "id": "acibECQXZpmW"
      },
      "source": [
        "pre = clf.predict(test_X)"
      ],
      "execution_count": null,
      "outputs": []
    },
    {
      "cell_type": "code",
      "metadata": {
        "id": "3QlYvRCgcgmi"
      },
      "source": [
        "pre1 = pd.DataFrame(pre)"
      ],
      "execution_count": null,
      "outputs": []
    },
    {
      "cell_type": "code",
      "metadata": {
        "id": "ntR8adpjcskK"
      },
      "source": [
        "pre1[pre1>0.7] = 1\n",
        "pre1[pre1<=0.7] = 0"
      ],
      "execution_count": null,
      "outputs": []
    },
    {
      "cell_type": "code",
      "metadata": {
        "colab": {
          "base_uri": "https://localhost:8080/",
          "height": 423
        },
        "id": "1F4fAqFuc9qY",
        "outputId": "282c9a42-ca59-4404-e211-adb27c483237"
      },
      "source": [
        "pre1"
      ],
      "execution_count": null,
      "outputs": [
        {
          "output_type": "execute_result",
          "data": {
            "text/html": [
              "<div>\n",
              "<style scoped>\n",
              "    .dataframe tbody tr th:only-of-type {\n",
              "        vertical-align: middle;\n",
              "    }\n",
              "\n",
              "    .dataframe tbody tr th {\n",
              "        vertical-align: top;\n",
              "    }\n",
              "\n",
              "    .dataframe thead th {\n",
              "        text-align: right;\n",
              "    }\n",
              "</style>\n",
              "<table border=\"1\" class=\"dataframe\">\n",
              "  <thead>\n",
              "    <tr style=\"text-align: right;\">\n",
              "      <th></th>\n",
              "      <th>0</th>\n",
              "    </tr>\n",
              "  </thead>\n",
              "  <tbody>\n",
              "    <tr>\n",
              "      <th>0</th>\n",
              "      <td>0.0</td>\n",
              "    </tr>\n",
              "    <tr>\n",
              "      <th>1</th>\n",
              "      <td>0.0</td>\n",
              "    </tr>\n",
              "    <tr>\n",
              "      <th>2</th>\n",
              "      <td>0.0</td>\n",
              "    </tr>\n",
              "    <tr>\n",
              "      <th>3</th>\n",
              "      <td>0.0</td>\n",
              "    </tr>\n",
              "    <tr>\n",
              "      <th>4</th>\n",
              "      <td>0.0</td>\n",
              "    </tr>\n",
              "    <tr>\n",
              "      <th>...</th>\n",
              "      <td>...</td>\n",
              "    </tr>\n",
              "    <tr>\n",
              "      <th>22075</th>\n",
              "      <td>0.0</td>\n",
              "    </tr>\n",
              "    <tr>\n",
              "      <th>22076</th>\n",
              "      <td>0.0</td>\n",
              "    </tr>\n",
              "    <tr>\n",
              "      <th>22077</th>\n",
              "      <td>0.0</td>\n",
              "    </tr>\n",
              "    <tr>\n",
              "      <th>22078</th>\n",
              "      <td>0.0</td>\n",
              "    </tr>\n",
              "    <tr>\n",
              "      <th>22079</th>\n",
              "      <td>0.0</td>\n",
              "    </tr>\n",
              "  </tbody>\n",
              "</table>\n",
              "<p>22080 rows × 1 columns</p>\n",
              "</div>"
            ],
            "text/plain": [
              "         0\n",
              "0      0.0\n",
              "1      0.0\n",
              "2      0.0\n",
              "3      0.0\n",
              "4      0.0\n",
              "...    ...\n",
              "22075  0.0\n",
              "22076  0.0\n",
              "22077  0.0\n",
              "22078  0.0\n",
              "22079  0.0\n",
              "\n",
              "[22080 rows x 1 columns]"
            ]
          },
          "metadata": {},
          "execution_count": 352
        }
      ]
    },
    {
      "cell_type": "code",
      "metadata": {
        "colab": {
          "base_uri": "https://localhost:8080/"
        },
        "id": "a9UEq1eydKJi",
        "outputId": "dde1484c-f72f-4732-b2c0-04a923fcdb36"
      },
      "source": [
        "from sklearn.metrics import *\n",
        "accuracy_score(test_Y,pre1)"
      ],
      "execution_count": null,
      "outputs": [
        {
          "output_type": "execute_result",
          "data": {
            "text/plain": [
              "0.9889945652173913"
            ]
          },
          "metadata": {},
          "execution_count": 343
        }
      ]
    },
    {
      "cell_type": "code",
      "metadata": {
        "colab": {
          "base_uri": "https://localhost:8080/"
        },
        "id": "-7BQYkWkda5B",
        "outputId": "3d93348b-33d6-4a4a-d125-5b8b8071d258"
      },
      "source": [
        "print(\"report:\\n\",classification_report(test_Y,pre1))"
      ],
      "execution_count": null,
      "outputs": [
        {
          "output_type": "stream",
          "name": "stdout",
          "text": [
            "report:\n",
            "               precision    recall  f1-score   support\n",
            "\n",
            "           0       0.99      0.99      0.99     21694\n",
            "           1       0.67      0.72      0.70       386\n",
            "\n",
            "    accuracy                           0.99     22080\n",
            "   macro avg       0.83      0.86      0.84     22080\n",
            "weighted avg       0.99      0.99      0.99     22080\n",
            "\n"
          ]
        }
      ]
    },
    {
      "cell_type": "code",
      "metadata": {
        "colab": {
          "base_uri": "https://localhost:8080/"
        },
        "id": "rVNMr9Wwdx4u",
        "outputId": "f11fadb4-29b8-4e4e-f60a-81f82404595b"
      },
      "source": [
        "f1_score(test_Y, pre1)"
      ],
      "execution_count": null,
      "outputs": [
        {
          "output_type": "execute_result",
          "data": {
            "text/plain": [
              "0.6951066499372647"
            ]
          },
          "metadata": {},
          "execution_count": 353
        }
      ]
    },
    {
      "cell_type": "code",
      "metadata": {
        "id": "qSj4Vpcwd6MM",
        "colab": {
          "base_uri": "https://localhost:8080/"
        },
        "outputId": "9768d173-8fa0-4f52-8fd7-140ce2f91f84"
      },
      "source": [
        "confusion_matrix(test_Y,pre1) #0.7"
      ],
      "execution_count": null,
      "outputs": [
        {
          "output_type": "execute_result",
          "data": {
            "text/plain": [
              "array([[21560,   134],\n",
              "       [  109,   277]])"
            ]
          },
          "metadata": {},
          "execution_count": 249
        }
      ]
    },
    {
      "cell_type": "code",
      "metadata": {
        "colab": {
          "base_uri": "https://localhost:8080/"
        },
        "id": "lwo7lbossTuX",
        "outputId": "d910229b-bb2c-43e0-a8b3-f608a353d9cb"
      },
      "source": [
        "confusion_matrix(test_Y,pre1) #0.75"
      ],
      "execution_count": null,
      "outputs": [
        {
          "output_type": "execute_result",
          "data": {
            "text/plain": [
              "array([[21560,   134],\n",
              "       [  109,   277]])"
            ]
          },
          "metadata": {},
          "execution_count": 345
        }
      ]
    },
    {
      "cell_type": "code",
      "metadata": {
        "colab": {
          "base_uri": "https://localhost:8080/",
          "height": 312
        },
        "id": "wzyjqkO3swpS",
        "outputId": "14c00888-b8a2-49e5-98fe-2a860a04db16"
      },
      "source": [
        "lgb.plot_importance(clf, max_num_features=25)"
      ],
      "execution_count": null,
      "outputs": [
        {
          "output_type": "execute_result",
          "data": {
            "text/plain": [
              "<matplotlib.axes._subplots.AxesSubplot at 0x7fc61f4533d0>"
            ]
          },
          "metadata": {},
          "execution_count": 11
        },
        {
          "output_type": "display_data",
          "data": {
            "image/png": "[encoded data removed]",
            "text/plain": [
              "<Figure size 432x288 with 1 Axes>"
            ]
          },
          "metadata": {
            "needs_background": "light"
          }
        }
      ]
    },
    {
      "cell_type": "markdown",
      "metadata": {
        "id": "sGx9tfM81A_k"
      },
      "source": [
        "XGBOOST"
      ]
    },
    {
      "cell_type": "code",
      "metadata": {
        "id": "rkC6CZsL2sbf"
      },
      "source": [
        ""
      ],
      "execution_count": null,
      "outputs": []
    },
    {
      "cell_type": "code",
      "metadata": {
        "id": "b8L1N-tyBB4e"
      },
      "source": [
        ""
      ],
      "execution_count": null,
      "outputs": []
    },
    {
      "cell_type": "code",
      "metadata": {
        "id": "jDFfAsQp2nzL"
      },
      "source": [
        ""
      ],
      "execution_count": null,
      "outputs": []
    }
  ]
}